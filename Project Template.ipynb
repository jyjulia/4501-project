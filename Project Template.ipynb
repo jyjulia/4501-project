{
 "cells": [
  {
   "cell_type": "markdown",
   "id": "d4c5a136-e872-4846-9965-9ddc5251a0b3",
   "metadata": {},
   "source": [
    "# NYC Apartment Search\n",
    "\n",
    "_[Project prompt](https://docs.google.com/document/d/1BYVyFBDcTywdUlanH0ysfOrNWPgl7UkqXA7NeewTzxA/edit#heading=h.bpxu7uvknnbk)_\n",
    "\n",
    "_This scaffolding notebook may be used to help setup your final project. It's **totally optional** whether you make use of this or not._\n",
    "\n",
    "_If you do use this notebook, everything provided is optional as well - you may remove or add code as you wish._\n",
    "\n",
    "_**All code below should be consider \"pseudo-code\" - not functional by itself, and only an idea of a possible approach.**_"
   ]
  },
  {
   "cell_type": "markdown",
   "id": "bdf11fa0-4684-4f5e-8048-0f4cc5f4f243",
   "metadata": {},
   "source": [
    "## Setup"
   ]
  },
  {
   "cell_type": "code",
   "execution_count": 1,
   "id": "0f675d4b-794e-407c-aac9-b85c4a3975d2",
   "metadata": {},
   "outputs": [
    {
     "name": "stderr",
     "output_type": "stream",
     "text": [
      "/Users/ljy/.conda/envs/untitled/lib/python3.10/site-packages/_distutils_hack/__init__.py:30: UserWarning: Setuptools is replacing distutils.\n",
      "  warnings.warn(\"Setuptools is replacing distutils.\")\n"
     ]
    }
   ],
   "source": [
    "# All import statements needed for the project, for example:\n",
    "\n",
    "import json\n",
    "import pathlib\n",
    "import urllib.parse\n",
    "\n",
    "# import geoalchemy2 as gdb\n",
    "import geopandas as gpd\n",
    "import matplotlib.pyplot as plt\n",
    "import pandas as pd\n",
    "import requests\n",
    "import pip\n",
    "import sqlalchemy as db\n",
    "\n",
    "from sqlalchemy.orm import declarative_base"
   ]
  },
  {
   "cell_type": "code",
   "execution_count": 2,
   "id": "70a62277-51cf-48a2-81d2-9b2127088a7e",
   "metadata": {},
   "outputs": [],
   "source": [
    "# Any constants you might need; some have been added for you\n",
    "\n",
    "# Where data files will be read from/written to - this should already exist\n",
    "DATA_DIR = pathlib.Path(\"data\")\n",
    "ZIPCODE_DATA_FILE = DATA_DIR / \"zipcodes\" / \"ZIP_CODE_040114.shp\"\n",
    "ZILLOW_DATA_FILE = DATA_DIR / \"zillow_rent_data.csv\"\n",
    "\n",
    "NYC_DATA_APP_TOKEN = \"FILL_ME_IN\"\n",
    "BASE_NYC_DATA_URL = \"https://data.cityofnewyork.us/\"\n",
    "NYC_DATA_311 = \"erm2-nwe9.geojson\"\n",
    "NYC_DATA_TREES = \"5rq2-4hqu.geojson\"\n",
    "\n",
    "DB_NAME = \"FILL_ME_IN\"\n",
    "DB_USER = \"FILL_ME_IN\"\n",
    "DB_URL = f\"postgres+psycopg2://{DB_USER}@localhost/{DB_NAME}\"\n",
    "DB_SCHEMA_FILE = \"schema.sql\"\n",
    "# directory where DB queries for Part 3 will be saved\n",
    "QUERY_DIR = pathlib.Path(\"queries\")"
   ]
  },
  {
   "cell_type": "code",
   "execution_count": 3,
   "id": "cd67cca9-ec72-44e3-83b8-b65f1ed5bb2f",
   "metadata": {},
   "outputs": [],
   "source": [
    "# Make sure the QUERY_DIRECTORY exists\n",
    "if not QUERY_DIR.exists():\n",
    "    QUERY_DIR.mkdir()"
   ]
  },
  {
   "cell_type": "code",
   "execution_count": 4,
   "metadata": {
    "collapsed": false,
    "pycharm": {
     "name": "#%%\n"
    }
   },
   "outputs": [],
   "source": [
    "app_token='Ynj6cS7u6dCNSS8Mx24yo8QLg'"
   ]
  },
  {
   "cell_type": "markdown",
   "id": "52476a07-9bf2-4b7a-8cb7-93648bb4d303",
   "metadata": {},
   "source": [
    "## Part 1: Data Preprocessing"
   ]
  },
  {
   "cell_type": "code",
   "execution_count": 5,
   "id": "63b18f12-c0ce-4b9c-adc1-805703edc575",
   "metadata": {},
   "outputs": [],
   "source": [
    "def download_nyc_geojson_data(url, force=False):\n",
    "    parsed_url = urllib.parse.urlparse(url)\n",
    "    url_path = parsed_url.path.strip(\"/\")\n",
    "    \n",
    "    filename = DATA_DIR / url_path\n",
    "    \n",
    "    if force or not filename.exists():\n",
    "        print(f\"Downloading {url} to {filename}...\")\n",
    "        \n",
    "        ...\n",
    "        \n",
    "        with open(filename, \"w\") as f:\n",
    "            json.dump(..., f)\n",
    "        print(f\"Done downloading {url}.\")\n",
    "\n",
    "    else:\n",
    "        print(f\"Reading from {filename}...\")\n",
    "\n",
    "    return filename"
   ]
  },
  {
   "cell_type": "code",
   "execution_count": 5,
   "id": "ee245240-2fbb-45b8-9a92-4e2368f62c60",
   "metadata": {},
   "outputs": [
    {
     "data": {
      "text/plain": "    ZIPCODE BLDGZIP        PO_NAME  POPULATION          AREA STATE    COUNTY  \\\n0     11436       0        Jamaica     18681.0  2.269930e+07    NY    Queens   \n1     11213       0       Brooklyn     62426.0  2.963100e+07    NY     Kings   \n2     11212       0       Brooklyn     83866.0  4.197210e+07    NY     Kings   \n3     11225       0       Brooklyn     56527.0  2.369863e+07    NY     Kings   \n4     11218       0       Brooklyn     72280.0  3.686880e+07    NY     Kings   \n..      ...     ...            ...         ...           ...   ...       ...   \n258   10310       0  Staten Island     25003.0  5.346328e+07    NY  Richmond   \n259   11693       0   Far Rockaway     11052.0  3.497516e+06    NY     Kings   \n260   11249       0       Brooklyn     28481.0  1.777221e+07    NY     Kings   \n261   10162       1       New York         0.0  2.103489e+04    NY  New York   \n262   10119       1       New York         0.0  1.263930e+05    NY  New York   \n\n    ST_FIPS CTY_FIPS                   URL  SHAPE_AREA  SHAPE_LEN  \\\n0        36      081  http://www.usps.com/         0.0        0.0   \n1        36      047  http://www.usps.com/         0.0        0.0   \n2        36      047  http://www.usps.com/         0.0        0.0   \n3        36      047  http://www.usps.com/         0.0        0.0   \n4        36      047  http://www.usps.com/         0.0        0.0   \n..      ...      ...                   ...         ...        ...   \n258      36      085  http://www.usps.com/         0.0        0.0   \n259      36      047  http://www.usps.com/         0.0        0.0   \n260      36      047  http://www.usps.com/         0.0        0.0   \n261      36      061  http://www.usps.com/         0.0        0.0   \n262      36      061  http://www.usps.com/         0.0        0.0   \n\n                                              geometry  \n0    POLYGON ((1038098.252 188138.380, 1038141.936 ...  \n1    POLYGON ((1001613.713 186926.440, 1002314.243 ...  \n2    POLYGON ((1011174.276 183696.338, 1011373.584 ...  \n3    POLYGON ((995908.365 183617.613, 996522.848 18...  \n4    POLYGON ((991997.113 176307.496, 992042.798 17...  \n..                                                 ...  \n258  POLYGON ((950767.507 172848.969, 950787.510 17...  \n259  POLYGON ((1028453.995 167153.410, 1027813.010 ...  \n260  POLYGON ((995877.318 203206.075, 995968.511 20...  \n261  POLYGON ((997731.761 219560.922, 997641.948 21...  \n262  POLYGON ((986038.661 213051.063, 986135.314 21...  \n\n[263 rows x 13 columns]",
      "text/html": "<div>\n<style scoped>\n    .dataframe tbody tr th:only-of-type {\n        vertical-align: middle;\n    }\n\n    .dataframe tbody tr th {\n        vertical-align: top;\n    }\n\n    .dataframe thead th {\n        text-align: right;\n    }\n</style>\n<table border=\"1\" class=\"dataframe\">\n  <thead>\n    <tr style=\"text-align: right;\">\n      <th></th>\n      <th>ZIPCODE</th>\n      <th>BLDGZIP</th>\n      <th>PO_NAME</th>\n      <th>POPULATION</th>\n      <th>AREA</th>\n      <th>STATE</th>\n      <th>COUNTY</th>\n      <th>ST_FIPS</th>\n      <th>CTY_FIPS</th>\n      <th>URL</th>\n      <th>SHAPE_AREA</th>\n      <th>SHAPE_LEN</th>\n      <th>geometry</th>\n    </tr>\n  </thead>\n  <tbody>\n    <tr>\n      <th>0</th>\n      <td>11436</td>\n      <td>0</td>\n      <td>Jamaica</td>\n      <td>18681.0</td>\n      <td>2.269930e+07</td>\n      <td>NY</td>\n      <td>Queens</td>\n      <td>36</td>\n      <td>081</td>\n      <td>http://www.usps.com/</td>\n      <td>0.0</td>\n      <td>0.0</td>\n      <td>POLYGON ((1038098.252 188138.380, 1038141.936 ...</td>\n    </tr>\n    <tr>\n      <th>1</th>\n      <td>11213</td>\n      <td>0</td>\n      <td>Brooklyn</td>\n      <td>62426.0</td>\n      <td>2.963100e+07</td>\n      <td>NY</td>\n      <td>Kings</td>\n      <td>36</td>\n      <td>047</td>\n      <td>http://www.usps.com/</td>\n      <td>0.0</td>\n      <td>0.0</td>\n      <td>POLYGON ((1001613.713 186926.440, 1002314.243 ...</td>\n    </tr>\n    <tr>\n      <th>2</th>\n      <td>11212</td>\n      <td>0</td>\n      <td>Brooklyn</td>\n      <td>83866.0</td>\n      <td>4.197210e+07</td>\n      <td>NY</td>\n      <td>Kings</td>\n      <td>36</td>\n      <td>047</td>\n      <td>http://www.usps.com/</td>\n      <td>0.0</td>\n      <td>0.0</td>\n      <td>POLYGON ((1011174.276 183696.338, 1011373.584 ...</td>\n    </tr>\n    <tr>\n      <th>3</th>\n      <td>11225</td>\n      <td>0</td>\n      <td>Brooklyn</td>\n      <td>56527.0</td>\n      <td>2.369863e+07</td>\n      <td>NY</td>\n      <td>Kings</td>\n      <td>36</td>\n      <td>047</td>\n      <td>http://www.usps.com/</td>\n      <td>0.0</td>\n      <td>0.0</td>\n      <td>POLYGON ((995908.365 183617.613, 996522.848 18...</td>\n    </tr>\n    <tr>\n      <th>4</th>\n      <td>11218</td>\n      <td>0</td>\n      <td>Brooklyn</td>\n      <td>72280.0</td>\n      <td>3.686880e+07</td>\n      <td>NY</td>\n      <td>Kings</td>\n      <td>36</td>\n      <td>047</td>\n      <td>http://www.usps.com/</td>\n      <td>0.0</td>\n      <td>0.0</td>\n      <td>POLYGON ((991997.113 176307.496, 992042.798 17...</td>\n    </tr>\n    <tr>\n      <th>...</th>\n      <td>...</td>\n      <td>...</td>\n      <td>...</td>\n      <td>...</td>\n      <td>...</td>\n      <td>...</td>\n      <td>...</td>\n      <td>...</td>\n      <td>...</td>\n      <td>...</td>\n      <td>...</td>\n      <td>...</td>\n      <td>...</td>\n    </tr>\n    <tr>\n      <th>258</th>\n      <td>10310</td>\n      <td>0</td>\n      <td>Staten Island</td>\n      <td>25003.0</td>\n      <td>5.346328e+07</td>\n      <td>NY</td>\n      <td>Richmond</td>\n      <td>36</td>\n      <td>085</td>\n      <td>http://www.usps.com/</td>\n      <td>0.0</td>\n      <td>0.0</td>\n      <td>POLYGON ((950767.507 172848.969, 950787.510 17...</td>\n    </tr>\n    <tr>\n      <th>259</th>\n      <td>11693</td>\n      <td>0</td>\n      <td>Far Rockaway</td>\n      <td>11052.0</td>\n      <td>3.497516e+06</td>\n      <td>NY</td>\n      <td>Kings</td>\n      <td>36</td>\n      <td>047</td>\n      <td>http://www.usps.com/</td>\n      <td>0.0</td>\n      <td>0.0</td>\n      <td>POLYGON ((1028453.995 167153.410, 1027813.010 ...</td>\n    </tr>\n    <tr>\n      <th>260</th>\n      <td>11249</td>\n      <td>0</td>\n      <td>Brooklyn</td>\n      <td>28481.0</td>\n      <td>1.777221e+07</td>\n      <td>NY</td>\n      <td>Kings</td>\n      <td>36</td>\n      <td>047</td>\n      <td>http://www.usps.com/</td>\n      <td>0.0</td>\n      <td>0.0</td>\n      <td>POLYGON ((995877.318 203206.075, 995968.511 20...</td>\n    </tr>\n    <tr>\n      <th>261</th>\n      <td>10162</td>\n      <td>1</td>\n      <td>New York</td>\n      <td>0.0</td>\n      <td>2.103489e+04</td>\n      <td>NY</td>\n      <td>New York</td>\n      <td>36</td>\n      <td>061</td>\n      <td>http://www.usps.com/</td>\n      <td>0.0</td>\n      <td>0.0</td>\n      <td>POLYGON ((997731.761 219560.922, 997641.948 21...</td>\n    </tr>\n    <tr>\n      <th>262</th>\n      <td>10119</td>\n      <td>1</td>\n      <td>New York</td>\n      <td>0.0</td>\n      <td>1.263930e+05</td>\n      <td>NY</td>\n      <td>New York</td>\n      <td>36</td>\n      <td>061</td>\n      <td>http://www.usps.com/</td>\n      <td>0.0</td>\n      <td>0.0</td>\n      <td>POLYGON ((986038.661 213051.063, 986135.314 21...</td>\n    </tr>\n  </tbody>\n</table>\n<p>263 rows × 13 columns</p>\n</div>"
     },
     "execution_count": 5,
     "metadata": {},
     "output_type": "execute_result"
    }
   ],
   "source": [
    "def load_and_clean_zipcodes(zipcode_datafile):\n",
    "    geodf_zipcode_data=gpd.read_file(zipcode_datafile)\n",
    "    return geodf_zipcode_data\n",
    "geodf_zipcode_data=load_and_clean_zipcodes('data/nyc_zipcodes/nyc_zipcodes.dbf')\n",
    "geodf_zipcode_data\n"
   ]
  },
  {
   "cell_type": "code",
   "execution_count": 7,
   "outputs": [
    {
     "data": {
      "text/plain": "    ZIPCODE        PO_NAME STATE    COUNTY  \\\n0     11436        Jamaica    NY    Queens   \n1     11213       Brooklyn    NY     Kings   \n2     11212       Brooklyn    NY     Kings   \n3     11225       Brooklyn    NY     Kings   \n4     11218       Brooklyn    NY     Kings   \n..      ...            ...   ...       ...   \n258   10310  Staten Island    NY  Richmond   \n259   11693   Far Rockaway    NY     Kings   \n260   11249       Brooklyn    NY     Kings   \n261   10162       New York    NY  New York   \n262   10119       New York    NY  New York   \n\n                                              geometry  \n0    POLYGON ((-73.80585 40.68291, -73.80569 40.682...  \n1    POLYGON ((-73.93740 40.67973, -73.93487 40.679...  \n2    POLYGON ((-73.90294 40.67084, -73.90223 40.668...  \n3    POLYGON ((-73.95797 40.67066, -73.95576 40.670...  \n4    POLYGON ((-73.97208 40.65060, -73.97192 40.650...  \n..                                                 ...  \n258  POLYGON ((-74.12065 40.64104, -74.12057 40.641...  \n259  POLYGON ((-73.84076 40.62536, -73.84306 40.627...  \n260  POLYGON ((-73.95805 40.72442, -73.95772 40.724...  \n261  POLYGON ((-73.95133 40.76931, -73.95165 40.769...  \n262  POLYGON ((-73.99354 40.75145, -73.99320 40.751...  \n\n[263 rows x 5 columns]",
      "text/html": "<div>\n<style scoped>\n    .dataframe tbody tr th:only-of-type {\n        vertical-align: middle;\n    }\n\n    .dataframe tbody tr th {\n        vertical-align: top;\n    }\n\n    .dataframe thead th {\n        text-align: right;\n    }\n</style>\n<table border=\"1\" class=\"dataframe\">\n  <thead>\n    <tr style=\"text-align: right;\">\n      <th></th>\n      <th>ZIPCODE</th>\n      <th>PO_NAME</th>\n      <th>STATE</th>\n      <th>COUNTY</th>\n      <th>geometry</th>\n    </tr>\n  </thead>\n  <tbody>\n    <tr>\n      <th>0</th>\n      <td>11436</td>\n      <td>Jamaica</td>\n      <td>NY</td>\n      <td>Queens</td>\n      <td>POLYGON ((-73.80585 40.68291, -73.80569 40.682...</td>\n    </tr>\n    <tr>\n      <th>1</th>\n      <td>11213</td>\n      <td>Brooklyn</td>\n      <td>NY</td>\n      <td>Kings</td>\n      <td>POLYGON ((-73.93740 40.67973, -73.93487 40.679...</td>\n    </tr>\n    <tr>\n      <th>2</th>\n      <td>11212</td>\n      <td>Brooklyn</td>\n      <td>NY</td>\n      <td>Kings</td>\n      <td>POLYGON ((-73.90294 40.67084, -73.90223 40.668...</td>\n    </tr>\n    <tr>\n      <th>3</th>\n      <td>11225</td>\n      <td>Brooklyn</td>\n      <td>NY</td>\n      <td>Kings</td>\n      <td>POLYGON ((-73.95797 40.67066, -73.95576 40.670...</td>\n    </tr>\n    <tr>\n      <th>4</th>\n      <td>11218</td>\n      <td>Brooklyn</td>\n      <td>NY</td>\n      <td>Kings</td>\n      <td>POLYGON ((-73.97208 40.65060, -73.97192 40.650...</td>\n    </tr>\n    <tr>\n      <th>...</th>\n      <td>...</td>\n      <td>...</td>\n      <td>...</td>\n      <td>...</td>\n      <td>...</td>\n    </tr>\n    <tr>\n      <th>258</th>\n      <td>10310</td>\n      <td>Staten Island</td>\n      <td>NY</td>\n      <td>Richmond</td>\n      <td>POLYGON ((-74.12065 40.64104, -74.12057 40.641...</td>\n    </tr>\n    <tr>\n      <th>259</th>\n      <td>11693</td>\n      <td>Far Rockaway</td>\n      <td>NY</td>\n      <td>Kings</td>\n      <td>POLYGON ((-73.84076 40.62536, -73.84306 40.627...</td>\n    </tr>\n    <tr>\n      <th>260</th>\n      <td>11249</td>\n      <td>Brooklyn</td>\n      <td>NY</td>\n      <td>Kings</td>\n      <td>POLYGON ((-73.95805 40.72442, -73.95772 40.724...</td>\n    </tr>\n    <tr>\n      <th>261</th>\n      <td>10162</td>\n      <td>New York</td>\n      <td>NY</td>\n      <td>New York</td>\n      <td>POLYGON ((-73.95133 40.76931, -73.95165 40.769...</td>\n    </tr>\n    <tr>\n      <th>262</th>\n      <td>10119</td>\n      <td>New York</td>\n      <td>NY</td>\n      <td>New York</td>\n      <td>POLYGON ((-73.99354 40.75145, -73.99320 40.751...</td>\n    </tr>\n  </tbody>\n</table>\n<p>263 rows × 5 columns</p>\n</div>"
     },
     "execution_count": 7,
     "metadata": {},
     "output_type": "execute_result"
    }
   ],
   "source": [
    "geodf_zipcode_data=geodf_zipcode_data.drop(['BLDGZIP','POPULATION','AREA','ST_FIPS','CTY_FIPS','URL','SHAPE_AREA','SHAPE_LEN'],axis=1)\n",
    "geodf_zipcode_data= geodf_zipcode_data.to_crs(epsg=4326)\n",
    "geodf_zipcode_data"
   ],
   "metadata": {
    "collapsed": false,
    "pycharm": {
     "name": "#%%\n"
    }
   }
  },
  {
   "cell_type": "code",
   "execution_count": null,
   "id": "eed2a5a9-1027-4c41-bbb5-039c32ce7e9b",
   "metadata": {},
   "outputs": [],
   "source": [
    "def download_and_clean_311_data():\n",
    "    api_endpoint = 'https://data.cityofnewyork.us/resource/erm2-nwe9.json'\n",
    "    selected_columns=['created_date','complaint_type','descriptor','incident_zip','latitude','longitude']\n",
    "    params = {\n",
    "    '$$app_token': app_token,\n",
    "    '$where': 'created_date >= \"2015-01-01T00:00:00.000\"',\n",
    "    '$select': ','.join(selected_columns),\n",
    "    '$limit': 34856027\n",
    "\n",
    "\n",
    "}\n",
    "    response = requests.get(api_endpoint, params=params)\n",
    "    if response.status_code == 200:\n",
    "    # Load the data into a pandas DataFrame\n",
    "        nyc_data = pd.read_json(response.text)\n",
    "\n",
    "    # Now you have the data and can perform further processing\n",
    "        nyc_data.to_csv('data/nyc_data_311.csv', index=False)\n",
    "        return nyc_data\n",
    "    else:\n",
    "        print(f\"Error: {response.status_code}, {response.text}\")\n",
    "\n",
    "\n",
    "geodf_311_data=download_and_clean_311_data()\n",
    "geodf_311_data"
   ]
  },
  {
   "cell_type": "code",
   "execution_count": 9,
   "metadata": {
    "collapsed": false,
    "pycharm": {
     "name": "#%%\n"
    }
   },
   "outputs": [
    {
     "name": "stderr",
     "output_type": "stream",
     "text": [
      "/var/folders/hf/mm0pmnq505ncq5b4sz9q0dz40000gn/T/ipykernel_21970/50730798.py:1: DtypeWarning: Columns (3) have mixed types. Specify dtype option on import or set low_memory=False.\n",
      "  geodf_311_data=pd.read_csv('data/nyc_data_311.csv',header=0)\n"
     ]
    },
    {
     "data": {
      "text/plain": "                     created_date           complaint_type        descriptor  \\\n4         2023-11-29T01:19:45.000       Noise - Helicopter             Other   \n6         2023-11-29T01:18:29.000       Noise - Commercial  Loud Music/Party   \n7         2023-11-29T01:17:13.000       Noise - Helicopter    News Gathering   \n8         2023-11-29T01:16:49.000       Noise - Helicopter             Other   \n9         2023-11-29T01:16:13.000       Noise - Commercial  Loud Music/Party   \n...                           ...                      ...               ...   \n24895793  2015-01-01T00:05:12.000      Noise - Residential  Loud Music/Party   \n24895794  2015-01-01T00:05:05.000  Noise - Street/Sidewalk  Loud Music/Party   \n24895795  2015-01-01T00:04:51.000      Noise - Residential  Loud Music/Party   \n24895797  2015-01-01T00:04:28.000          Noise - Vehicle    Car/Truck Horn   \n24895798  2015-01-01T00:01:30.000  Noise - Street/Sidewalk  Loud Music/Party   \n\n         incident_zip   latitude  longitude  \n4             10028.0  40.780633 -73.960360  \n6             10002.0  40.712416 -73.994366  \n7             10025.0  40.798139 -73.968245  \n8             11231.0  40.680371 -73.990676  \n9             11216.0  40.686815 -73.954611  \n...               ...        ...        ...  \n24895793        11216  40.681473 -73.952790  \n24895794        10002  40.721235 -73.987770  \n24895795        11375  40.709232 -73.853204  \n24895797        10468  40.867830 -73.907178  \n24895798        10031  40.821647 -73.950873  \n\n[5079854 rows x 6 columns]",
      "text/html": "<div>\n<style scoped>\n    .dataframe tbody tr th:only-of-type {\n        vertical-align: middle;\n    }\n\n    .dataframe tbody tr th {\n        vertical-align: top;\n    }\n\n    .dataframe thead th {\n        text-align: right;\n    }\n</style>\n<table border=\"1\" class=\"dataframe\">\n  <thead>\n    <tr style=\"text-align: right;\">\n      <th></th>\n      <th>created_date</th>\n      <th>complaint_type</th>\n      <th>descriptor</th>\n      <th>incident_zip</th>\n      <th>latitude</th>\n      <th>longitude</th>\n    </tr>\n  </thead>\n  <tbody>\n    <tr>\n      <th>4</th>\n      <td>2023-11-29T01:19:45.000</td>\n      <td>Noise - Helicopter</td>\n      <td>Other</td>\n      <td>10028.0</td>\n      <td>40.780633</td>\n      <td>-73.960360</td>\n    </tr>\n    <tr>\n      <th>6</th>\n      <td>2023-11-29T01:18:29.000</td>\n      <td>Noise - Commercial</td>\n      <td>Loud Music/Party</td>\n      <td>10002.0</td>\n      <td>40.712416</td>\n      <td>-73.994366</td>\n    </tr>\n    <tr>\n      <th>7</th>\n      <td>2023-11-29T01:17:13.000</td>\n      <td>Noise - Helicopter</td>\n      <td>News Gathering</td>\n      <td>10025.0</td>\n      <td>40.798139</td>\n      <td>-73.968245</td>\n    </tr>\n    <tr>\n      <th>8</th>\n      <td>2023-11-29T01:16:49.000</td>\n      <td>Noise - Helicopter</td>\n      <td>Other</td>\n      <td>11231.0</td>\n      <td>40.680371</td>\n      <td>-73.990676</td>\n    </tr>\n    <tr>\n      <th>9</th>\n      <td>2023-11-29T01:16:13.000</td>\n      <td>Noise - Commercial</td>\n      <td>Loud Music/Party</td>\n      <td>11216.0</td>\n      <td>40.686815</td>\n      <td>-73.954611</td>\n    </tr>\n    <tr>\n      <th>...</th>\n      <td>...</td>\n      <td>...</td>\n      <td>...</td>\n      <td>...</td>\n      <td>...</td>\n      <td>...</td>\n    </tr>\n    <tr>\n      <th>24895793</th>\n      <td>2015-01-01T00:05:12.000</td>\n      <td>Noise - Residential</td>\n      <td>Loud Music/Party</td>\n      <td>11216</td>\n      <td>40.681473</td>\n      <td>-73.952790</td>\n    </tr>\n    <tr>\n      <th>24895794</th>\n      <td>2015-01-01T00:05:05.000</td>\n      <td>Noise - Street/Sidewalk</td>\n      <td>Loud Music/Party</td>\n      <td>10002</td>\n      <td>40.721235</td>\n      <td>-73.987770</td>\n    </tr>\n    <tr>\n      <th>24895795</th>\n      <td>2015-01-01T00:04:51.000</td>\n      <td>Noise - Residential</td>\n      <td>Loud Music/Party</td>\n      <td>11375</td>\n      <td>40.709232</td>\n      <td>-73.853204</td>\n    </tr>\n    <tr>\n      <th>24895797</th>\n      <td>2015-01-01T00:04:28.000</td>\n      <td>Noise - Vehicle</td>\n      <td>Car/Truck Horn</td>\n      <td>10468</td>\n      <td>40.867830</td>\n      <td>-73.907178</td>\n    </tr>\n    <tr>\n      <th>24895798</th>\n      <td>2015-01-01T00:01:30.000</td>\n      <td>Noise - Street/Sidewalk</td>\n      <td>Loud Music/Party</td>\n      <td>10031</td>\n      <td>40.821647</td>\n      <td>-73.950873</td>\n    </tr>\n  </tbody>\n</table>\n<p>5079854 rows × 6 columns</p>\n</div>"
     },
     "execution_count": 9,
     "metadata": {},
     "output_type": "execute_result"
    }
   ],
   "source": [
    "geodf_311_data=pd.read_csv('data/nyc_data_311.csv',header=0)\n",
    "geodf_311_data=geodf_311_data.dropna()\n",
    "geodf_311_data=geodf_311_data[geodf_311_data['complaint_type'].str.contains('Noise')]\n",
    "geodf_311_data"
   ]
  },
  {
   "cell_type": "code",
   "execution_count": 8,
   "id": "39c4b1bc-c841-4b87-8301-1dc2cafeccc7",
   "metadata": {},
   "outputs": [],
   "source": [
    "def download_and_clean_tree_data():\n",
    "    api_endpoint1 = 'https://data.cityofnewyork.us/resource/5rq2-4hqu.geojson'\n",
    "    selected_columns = ['tree_id','zipcode','latitude','longitude']\n",
    "    params = {\n",
    "        '$$app_token': app_token,\n",
    "        '$limit': 683788,\n",
    "        '$select': ','.join(selected_columns),\n",
    "    }\n",
    "    response = requests.get(api_endpoint1, params=params)\n",
    "    if response.status_code == 200:\n",
    "        # Load the data into a GeoDataFrame using geopandas\n",
    "        geodf_tree_data  = gpd.read_file(response.text)\n",
    "\n",
    "        # Save the GeoDataFrame to a CSV file\n",
    "        geodf_tree_data.to_csv('data/tree_data.csv', index=False)\n",
    "\n",
    "        return geodf_tree_data\n",
    "    else:\n",
    "        print(f\"Error: {response.status_code}, {response.text}\")\n",
    "\n",
    "# 调用函数\n",
    "geodf_tree_data = download_and_clean_tree_data()"
   ]
  },
  {
   "cell_type": "code",
   "execution_count": 10,
   "outputs": [
    {
     "data": {
      "text/plain": "        tree_id  zipcode   latitude  longitude\n0        180683    11375  40.723092 -73.844215\n1        200540    11357  40.794111 -73.818679\n2        204026    11211  40.717581 -73.936608\n3        204337    11211  40.713537 -73.934456\n4        189565    11215  40.666778 -73.975979\n...         ...      ...        ...        ...\n683783   155433    11211  40.713211 -73.954944\n683784   183795    11375  40.715194 -73.856650\n683785   166161    10314  40.620762 -74.136517\n683786   184028    10457  40.850828 -73.903115\n683787   200607    11365  40.732165 -73.787526\n\n[683788 rows x 4 columns]",
      "text/html": "<div>\n<style scoped>\n    .dataframe tbody tr th:only-of-type {\n        vertical-align: middle;\n    }\n\n    .dataframe tbody tr th {\n        vertical-align: top;\n    }\n\n    .dataframe thead th {\n        text-align: right;\n    }\n</style>\n<table border=\"1\" class=\"dataframe\">\n  <thead>\n    <tr style=\"text-align: right;\">\n      <th></th>\n      <th>tree_id</th>\n      <th>zipcode</th>\n      <th>latitude</th>\n      <th>longitude</th>\n    </tr>\n  </thead>\n  <tbody>\n    <tr>\n      <th>0</th>\n      <td>180683</td>\n      <td>11375</td>\n      <td>40.723092</td>\n      <td>-73.844215</td>\n    </tr>\n    <tr>\n      <th>1</th>\n      <td>200540</td>\n      <td>11357</td>\n      <td>40.794111</td>\n      <td>-73.818679</td>\n    </tr>\n    <tr>\n      <th>2</th>\n      <td>204026</td>\n      <td>11211</td>\n      <td>40.717581</td>\n      <td>-73.936608</td>\n    </tr>\n    <tr>\n      <th>3</th>\n      <td>204337</td>\n      <td>11211</td>\n      <td>40.713537</td>\n      <td>-73.934456</td>\n    </tr>\n    <tr>\n      <th>4</th>\n      <td>189565</td>\n      <td>11215</td>\n      <td>40.666778</td>\n      <td>-73.975979</td>\n    </tr>\n    <tr>\n      <th>...</th>\n      <td>...</td>\n      <td>...</td>\n      <td>...</td>\n      <td>...</td>\n    </tr>\n    <tr>\n      <th>683783</th>\n      <td>155433</td>\n      <td>11211</td>\n      <td>40.713211</td>\n      <td>-73.954944</td>\n    </tr>\n    <tr>\n      <th>683784</th>\n      <td>183795</td>\n      <td>11375</td>\n      <td>40.715194</td>\n      <td>-73.856650</td>\n    </tr>\n    <tr>\n      <th>683785</th>\n      <td>166161</td>\n      <td>10314</td>\n      <td>40.620762</td>\n      <td>-74.136517</td>\n    </tr>\n    <tr>\n      <th>683786</th>\n      <td>184028</td>\n      <td>10457</td>\n      <td>40.850828</td>\n      <td>-73.903115</td>\n    </tr>\n    <tr>\n      <th>683787</th>\n      <td>200607</td>\n      <td>11365</td>\n      <td>40.732165</td>\n      <td>-73.787526</td>\n    </tr>\n  </tbody>\n</table>\n<p>683788 rows × 4 columns</p>\n</div>"
     },
     "execution_count": 10,
     "metadata": {},
     "output_type": "execute_result"
    }
   ],
   "source": [
    "geodf_tree_data=pd.read_csv('data/tree_data.csv')\n",
    "geodf_tree_data=geodf_tree_data.drop(['geometry'],axis=1)\n",
    "geodf_tree_data"
   ],
   "metadata": {
    "collapsed": false,
    "pycharm": {
     "name": "#%%\n"
    }
   }
  },
  {
   "cell_type": "code",
   "execution_count": 11,
   "id": "747ff49f-a18b-4fc0-8da6-6834a10d11ce",
   "metadata": {},
   "outputs": [
    {
     "data": {
      "text/plain": "      RegionName State      City                                  Metro  \\\n4          11385    NY  New York  New York-Newark-Jersey City, NY-NJ-PA   \n6          11208    NY  New York  New York-Newark-Jersey City, NY-NJ-PA   \n12         11236    NY  New York  New York-Newark-Jersey City, NY-NJ-PA   \n13         10467    NY  New York  New York-Newark-Jersey City, NY-NJ-PA   \n14         11373    NY  New York  New York-Newark-Jersey City, NY-NJ-PA   \n...          ...   ...       ...                                    ...   \n6550       10282    NY  New York  New York-Newark-Jersey City, NY-NJ-PA   \n6561       11109    NY  New York  New York-Newark-Jersey City, NY-NJ-PA   \n6644       10006    NY  New York  New York-Newark-Jersey City, NY-NJ-PA   \n6695       10162    NY  New York  New York-Newark-Jersey City, NY-NJ-PA   \n6721       10004    NY  New York  New York-Newark-Jersey City, NY-NJ-PA   \n\n           CountyName  2015-01-31   2015-02-28  2015-03-31   2015-04-30  \\\n4       Queens County         NaN  2087.527084         NaN  2149.924252   \n6        Kings County         NaN          NaN         NaN          NaN   \n12       Kings County         NaN          NaN         NaN          NaN   \n13       Bronx County         NaN          NaN         NaN          NaN   \n14      Queens County         NaN          NaN         NaN          NaN   \n...               ...         ...          ...         ...          ...   \n6550  New York County         NaN          NaN         NaN          NaN   \n6561    Queens County         NaN          NaN         NaN          NaN   \n6644  New York County         NaN          NaN         NaN          NaN   \n6695  New York County         NaN          NaN         NaN          NaN   \n6721  New York County         NaN          NaN         NaN          NaN   \n\n       2015-05-31  ...   2022-12-31   2023-01-31   2023-02-28   2023-03-31  \\\n4     2166.263698  ...  2935.808220  2895.699421  2873.209025  2881.906361   \n6             NaN  ...  2508.670432  2588.030194  2613.790654  2585.561351   \n12            NaN  ...          NaN          NaN          NaN          NaN   \n13            NaN  ...  2145.642295  2155.617718  2172.346611  2160.962748   \n14            NaN  ...  2199.459063  2255.604528  2262.101623  2271.514956   \n...           ...  ...          ...          ...          ...          ...   \n6550          NaN  ...  7058.613416  7143.347680  7408.940270  7459.080381   \n6561          NaN  ...  4247.334177  4159.759749  4157.528579  4201.199144   \n6644          NaN  ...  3936.629997  3747.416799  3693.121513  3812.835588   \n6695          NaN  ...          NaN          NaN          NaN          NaN   \n6721          NaN  ...  4006.972903  4000.923287  4002.584212  4085.513015   \n\n       2023-04-30   2023-05-31   2023-06-30   2023-07-31   2023-08-31  \\\n4     2913.546218  2963.964134  3005.735342  3034.413822  3064.476503   \n6     2633.200754  2672.038493  2806.918757  2765.224364  2737.547470   \n12            NaN          NaN          NaN          NaN  2285.460026   \n13    2110.533203  2180.323655  2276.372290  2334.204728  2353.686402   \n14    2250.182334  2231.959479  2257.413993  2247.592851  2302.557354   \n...           ...          ...          ...          ...          ...   \n6550  7512.509440  7452.333390  7572.806191  7611.834625  7444.236260   \n6561  4294.386817  4343.065214  4357.893069  4445.207586  4490.367074   \n6644  3920.619972  4025.134283  4043.838704  4035.676503  4042.831474   \n6695          NaN  4871.181752  5007.415824          NaN  4984.693932   \n6721  4224.569373  4240.040733  4286.776061  4270.158740  4353.055657   \n\n       2023-09-30  \n4     3079.585783  \n6     2728.733333  \n12    2362.500000  \n13    2423.888889  \n14    2292.994444  \n...           ...  \n6550  7347.458333  \n6561  4529.358974  \n6644  4060.096154  \n6695  5011.666667  \n6721  4355.328283  \n\n[145 rows x 110 columns]",
      "text/html": "<div>\n<style scoped>\n    .dataframe tbody tr th:only-of-type {\n        vertical-align: middle;\n    }\n\n    .dataframe tbody tr th {\n        vertical-align: top;\n    }\n\n    .dataframe thead th {\n        text-align: right;\n    }\n</style>\n<table border=\"1\" class=\"dataframe\">\n  <thead>\n    <tr style=\"text-align: right;\">\n      <th></th>\n      <th>RegionName</th>\n      <th>State</th>\n      <th>City</th>\n      <th>Metro</th>\n      <th>CountyName</th>\n      <th>2015-01-31</th>\n      <th>2015-02-28</th>\n      <th>2015-03-31</th>\n      <th>2015-04-30</th>\n      <th>2015-05-31</th>\n      <th>...</th>\n      <th>2022-12-31</th>\n      <th>2023-01-31</th>\n      <th>2023-02-28</th>\n      <th>2023-03-31</th>\n      <th>2023-04-30</th>\n      <th>2023-05-31</th>\n      <th>2023-06-30</th>\n      <th>2023-07-31</th>\n      <th>2023-08-31</th>\n      <th>2023-09-30</th>\n    </tr>\n  </thead>\n  <tbody>\n    <tr>\n      <th>4</th>\n      <td>11385</td>\n      <td>NY</td>\n      <td>New York</td>\n      <td>New York-Newark-Jersey City, NY-NJ-PA</td>\n      <td>Queens County</td>\n      <td>NaN</td>\n      <td>2087.527084</td>\n      <td>NaN</td>\n      <td>2149.924252</td>\n      <td>2166.263698</td>\n      <td>...</td>\n      <td>2935.808220</td>\n      <td>2895.699421</td>\n      <td>2873.209025</td>\n      <td>2881.906361</td>\n      <td>2913.546218</td>\n      <td>2963.964134</td>\n      <td>3005.735342</td>\n      <td>3034.413822</td>\n      <td>3064.476503</td>\n      <td>3079.585783</td>\n    </tr>\n    <tr>\n      <th>6</th>\n      <td>11208</td>\n      <td>NY</td>\n      <td>New York</td>\n      <td>New York-Newark-Jersey City, NY-NJ-PA</td>\n      <td>Kings County</td>\n      <td>NaN</td>\n      <td>NaN</td>\n      <td>NaN</td>\n      <td>NaN</td>\n      <td>NaN</td>\n      <td>...</td>\n      <td>2508.670432</td>\n      <td>2588.030194</td>\n      <td>2613.790654</td>\n      <td>2585.561351</td>\n      <td>2633.200754</td>\n      <td>2672.038493</td>\n      <td>2806.918757</td>\n      <td>2765.224364</td>\n      <td>2737.547470</td>\n      <td>2728.733333</td>\n    </tr>\n    <tr>\n      <th>12</th>\n      <td>11236</td>\n      <td>NY</td>\n      <td>New York</td>\n      <td>New York-Newark-Jersey City, NY-NJ-PA</td>\n      <td>Kings County</td>\n      <td>NaN</td>\n      <td>NaN</td>\n      <td>NaN</td>\n      <td>NaN</td>\n      <td>NaN</td>\n      <td>...</td>\n      <td>NaN</td>\n      <td>NaN</td>\n      <td>NaN</td>\n      <td>NaN</td>\n      <td>NaN</td>\n      <td>NaN</td>\n      <td>NaN</td>\n      <td>NaN</td>\n      <td>2285.460026</td>\n      <td>2362.500000</td>\n    </tr>\n    <tr>\n      <th>13</th>\n      <td>10467</td>\n      <td>NY</td>\n      <td>New York</td>\n      <td>New York-Newark-Jersey City, NY-NJ-PA</td>\n      <td>Bronx County</td>\n      <td>NaN</td>\n      <td>NaN</td>\n      <td>NaN</td>\n      <td>NaN</td>\n      <td>NaN</td>\n      <td>...</td>\n      <td>2145.642295</td>\n      <td>2155.617718</td>\n      <td>2172.346611</td>\n      <td>2160.962748</td>\n      <td>2110.533203</td>\n      <td>2180.323655</td>\n      <td>2276.372290</td>\n      <td>2334.204728</td>\n      <td>2353.686402</td>\n      <td>2423.888889</td>\n    </tr>\n    <tr>\n      <th>14</th>\n      <td>11373</td>\n      <td>NY</td>\n      <td>New York</td>\n      <td>New York-Newark-Jersey City, NY-NJ-PA</td>\n      <td>Queens County</td>\n      <td>NaN</td>\n      <td>NaN</td>\n      <td>NaN</td>\n      <td>NaN</td>\n      <td>NaN</td>\n      <td>...</td>\n      <td>2199.459063</td>\n      <td>2255.604528</td>\n      <td>2262.101623</td>\n      <td>2271.514956</td>\n      <td>2250.182334</td>\n      <td>2231.959479</td>\n      <td>2257.413993</td>\n      <td>2247.592851</td>\n      <td>2302.557354</td>\n      <td>2292.994444</td>\n    </tr>\n    <tr>\n      <th>...</th>\n      <td>...</td>\n      <td>...</td>\n      <td>...</td>\n      <td>...</td>\n      <td>...</td>\n      <td>...</td>\n      <td>...</td>\n      <td>...</td>\n      <td>...</td>\n      <td>...</td>\n      <td>...</td>\n      <td>...</td>\n      <td>...</td>\n      <td>...</td>\n      <td>...</td>\n      <td>...</td>\n      <td>...</td>\n      <td>...</td>\n      <td>...</td>\n      <td>...</td>\n      <td>...</td>\n    </tr>\n    <tr>\n      <th>6550</th>\n      <td>10282</td>\n      <td>NY</td>\n      <td>New York</td>\n      <td>New York-Newark-Jersey City, NY-NJ-PA</td>\n      <td>New York County</td>\n      <td>NaN</td>\n      <td>NaN</td>\n      <td>NaN</td>\n      <td>NaN</td>\n      <td>NaN</td>\n      <td>...</td>\n      <td>7058.613416</td>\n      <td>7143.347680</td>\n      <td>7408.940270</td>\n      <td>7459.080381</td>\n      <td>7512.509440</td>\n      <td>7452.333390</td>\n      <td>7572.806191</td>\n      <td>7611.834625</td>\n      <td>7444.236260</td>\n      <td>7347.458333</td>\n    </tr>\n    <tr>\n      <th>6561</th>\n      <td>11109</td>\n      <td>NY</td>\n      <td>New York</td>\n      <td>New York-Newark-Jersey City, NY-NJ-PA</td>\n      <td>Queens County</td>\n      <td>NaN</td>\n      <td>NaN</td>\n      <td>NaN</td>\n      <td>NaN</td>\n      <td>NaN</td>\n      <td>...</td>\n      <td>4247.334177</td>\n      <td>4159.759749</td>\n      <td>4157.528579</td>\n      <td>4201.199144</td>\n      <td>4294.386817</td>\n      <td>4343.065214</td>\n      <td>4357.893069</td>\n      <td>4445.207586</td>\n      <td>4490.367074</td>\n      <td>4529.358974</td>\n    </tr>\n    <tr>\n      <th>6644</th>\n      <td>10006</td>\n      <td>NY</td>\n      <td>New York</td>\n      <td>New York-Newark-Jersey City, NY-NJ-PA</td>\n      <td>New York County</td>\n      <td>NaN</td>\n      <td>NaN</td>\n      <td>NaN</td>\n      <td>NaN</td>\n      <td>NaN</td>\n      <td>...</td>\n      <td>3936.629997</td>\n      <td>3747.416799</td>\n      <td>3693.121513</td>\n      <td>3812.835588</td>\n      <td>3920.619972</td>\n      <td>4025.134283</td>\n      <td>4043.838704</td>\n      <td>4035.676503</td>\n      <td>4042.831474</td>\n      <td>4060.096154</td>\n    </tr>\n    <tr>\n      <th>6695</th>\n      <td>10162</td>\n      <td>NY</td>\n      <td>New York</td>\n      <td>New York-Newark-Jersey City, NY-NJ-PA</td>\n      <td>New York County</td>\n      <td>NaN</td>\n      <td>NaN</td>\n      <td>NaN</td>\n      <td>NaN</td>\n      <td>NaN</td>\n      <td>...</td>\n      <td>NaN</td>\n      <td>NaN</td>\n      <td>NaN</td>\n      <td>NaN</td>\n      <td>NaN</td>\n      <td>4871.181752</td>\n      <td>5007.415824</td>\n      <td>NaN</td>\n      <td>4984.693932</td>\n      <td>5011.666667</td>\n    </tr>\n    <tr>\n      <th>6721</th>\n      <td>10004</td>\n      <td>NY</td>\n      <td>New York</td>\n      <td>New York-Newark-Jersey City, NY-NJ-PA</td>\n      <td>New York County</td>\n      <td>NaN</td>\n      <td>NaN</td>\n      <td>NaN</td>\n      <td>NaN</td>\n      <td>NaN</td>\n      <td>...</td>\n      <td>4006.972903</td>\n      <td>4000.923287</td>\n      <td>4002.584212</td>\n      <td>4085.513015</td>\n      <td>4224.569373</td>\n      <td>4240.040733</td>\n      <td>4286.776061</td>\n      <td>4270.158740</td>\n      <td>4353.055657</td>\n      <td>4355.328283</td>\n    </tr>\n  </tbody>\n</table>\n<p>145 rows × 110 columns</p>\n</div>"
     },
     "execution_count": 11,
     "metadata": {},
     "output_type": "execute_result"
    }
   ],
   "source": [
    "def load_and_clean_zillow_data():\n",
    "    df_zillow_data=pd.read_csv('data/zillow_rent_data.csv')\n",
    "    df_zillow_data= df_zillow_data.drop(['RegionID','SizeRank','RegionType','StateName'],axis=1)\n",
    "    df_zillow_data=df_zillow_data[df_zillow_data['City']=='New York']\n",
    "    return df_zillow_data\n",
    "\n",
    "df_zillow_data=load_and_clean_zillow_data()\n",
    "df_zillow_data"
   ]
  },
  {
   "cell_type": "code",
   "execution_count": 12,
   "id": "23ad8bbc-bf91-457e-97db-a945fabeee29",
   "metadata": {},
   "outputs": [
    {
     "name": "stdout",
     "output_type": "stream",
     "text": [
      "<class 'geopandas.geodataframe.GeoDataFrame'>\n",
      "RangeIndex: 263 entries, 0 to 262\n",
      "Data columns (total 5 columns):\n",
      " #   Column    Non-Null Count  Dtype   \n",
      "---  ------    --------------  -----   \n",
      " 0   ZIPCODE   263 non-null    object  \n",
      " 1   PO_NAME   263 non-null    object  \n",
      " 2   STATE     263 non-null    object  \n",
      " 3   COUNTY    263 non-null    object  \n",
      " 4   geometry  263 non-null    geometry\n",
      "dtypes: geometry(1), object(4)\n",
      "memory usage: 10.4+ KB\n"
     ]
    }
   ],
   "source": [
    "# Show basic info about each dataframe\n",
    "geodf_zipcode_data.info()"
   ]
  },
  {
   "cell_type": "code",
   "execution_count": 13,
   "id": "ec68f4be-f365-46c1-91a1-ab75deb75ff4",
   "metadata": {},
   "outputs": [
    {
     "data": {
      "text/plain": "  ZIPCODE   PO_NAME STATE  COUNTY  \\\n0   11436   Jamaica    NY  Queens   \n1   11213  Brooklyn    NY   Kings   \n2   11212  Brooklyn    NY   Kings   \n3   11225  Brooklyn    NY   Kings   \n4   11218  Brooklyn    NY   Kings   \n\n                                            geometry  \n0  POLYGON ((-73.80585 40.68291, -73.80569 40.682...  \n1  POLYGON ((-73.93740 40.67973, -73.93487 40.679...  \n2  POLYGON ((-73.90294 40.67084, -73.90223 40.668...  \n3  POLYGON ((-73.95797 40.67066, -73.95576 40.670...  \n4  POLYGON ((-73.97208 40.65060, -73.97192 40.650...  ",
      "text/html": "<div>\n<style scoped>\n    .dataframe tbody tr th:only-of-type {\n        vertical-align: middle;\n    }\n\n    .dataframe tbody tr th {\n        vertical-align: top;\n    }\n\n    .dataframe thead th {\n        text-align: right;\n    }\n</style>\n<table border=\"1\" class=\"dataframe\">\n  <thead>\n    <tr style=\"text-align: right;\">\n      <th></th>\n      <th>ZIPCODE</th>\n      <th>PO_NAME</th>\n      <th>STATE</th>\n      <th>COUNTY</th>\n      <th>geometry</th>\n    </tr>\n  </thead>\n  <tbody>\n    <tr>\n      <th>0</th>\n      <td>11436</td>\n      <td>Jamaica</td>\n      <td>NY</td>\n      <td>Queens</td>\n      <td>POLYGON ((-73.80585 40.68291, -73.80569 40.682...</td>\n    </tr>\n    <tr>\n      <th>1</th>\n      <td>11213</td>\n      <td>Brooklyn</td>\n      <td>NY</td>\n      <td>Kings</td>\n      <td>POLYGON ((-73.93740 40.67973, -73.93487 40.679...</td>\n    </tr>\n    <tr>\n      <th>2</th>\n      <td>11212</td>\n      <td>Brooklyn</td>\n      <td>NY</td>\n      <td>Kings</td>\n      <td>POLYGON ((-73.90294 40.67084, -73.90223 40.668...</td>\n    </tr>\n    <tr>\n      <th>3</th>\n      <td>11225</td>\n      <td>Brooklyn</td>\n      <td>NY</td>\n      <td>Kings</td>\n      <td>POLYGON ((-73.95797 40.67066, -73.95576 40.670...</td>\n    </tr>\n    <tr>\n      <th>4</th>\n      <td>11218</td>\n      <td>Brooklyn</td>\n      <td>NY</td>\n      <td>Kings</td>\n      <td>POLYGON ((-73.97208 40.65060, -73.97192 40.650...</td>\n    </tr>\n  </tbody>\n</table>\n</div>"
     },
     "execution_count": 13,
     "metadata": {},
     "output_type": "execute_result"
    }
   ],
   "source": [
    "# Show first 5 entries about each dataframe\n",
    "geodf_zipcode_data.head()"
   ]
  },
  {
   "cell_type": "code",
   "execution_count": 14,
   "id": "6a803b68-2f07-44b8-8b24-d4f16c9e03fe",
   "metadata": {},
   "outputs": [
    {
     "name": "stdout",
     "output_type": "stream",
     "text": [
      "<class 'pandas.core.frame.DataFrame'>\n",
      "Int64Index: 5079854 entries, 4 to 24895798\n",
      "Data columns (total 6 columns):\n",
      " #   Column          Dtype  \n",
      "---  ------          -----  \n",
      " 0   created_date    object \n",
      " 1   complaint_type  object \n",
      " 2   descriptor      object \n",
      " 3   incident_zip    object \n",
      " 4   latitude        float64\n",
      " 5   longitude       float64\n",
      "dtypes: float64(2), object(4)\n",
      "memory usage: 271.3+ MB\n"
     ]
    }
   ],
   "source": [
    "geodf_311_data.info()"
   ]
  },
  {
   "cell_type": "code",
   "execution_count": 15,
   "id": "14705df9-ea77-4d57-ac8e-1845f80a216d",
   "metadata": {},
   "outputs": [
    {
     "data": {
      "text/plain": "              created_date      complaint_type        descriptor incident_zip  \\\n4  2023-11-29T01:19:45.000  Noise - Helicopter             Other      10028.0   \n6  2023-11-29T01:18:29.000  Noise - Commercial  Loud Music/Party      10002.0   \n7  2023-11-29T01:17:13.000  Noise - Helicopter    News Gathering      10025.0   \n8  2023-11-29T01:16:49.000  Noise - Helicopter             Other      11231.0   \n9  2023-11-29T01:16:13.000  Noise - Commercial  Loud Music/Party      11216.0   \n\n    latitude  longitude  \n4  40.780633 -73.960360  \n6  40.712416 -73.994366  \n7  40.798139 -73.968245  \n8  40.680371 -73.990676  \n9  40.686815 -73.954611  ",
      "text/html": "<div>\n<style scoped>\n    .dataframe tbody tr th:only-of-type {\n        vertical-align: middle;\n    }\n\n    .dataframe tbody tr th {\n        vertical-align: top;\n    }\n\n    .dataframe thead th {\n        text-align: right;\n    }\n</style>\n<table border=\"1\" class=\"dataframe\">\n  <thead>\n    <tr style=\"text-align: right;\">\n      <th></th>\n      <th>created_date</th>\n      <th>complaint_type</th>\n      <th>descriptor</th>\n      <th>incident_zip</th>\n      <th>latitude</th>\n      <th>longitude</th>\n    </tr>\n  </thead>\n  <tbody>\n    <tr>\n      <th>4</th>\n      <td>2023-11-29T01:19:45.000</td>\n      <td>Noise - Helicopter</td>\n      <td>Other</td>\n      <td>10028.0</td>\n      <td>40.780633</td>\n      <td>-73.960360</td>\n    </tr>\n    <tr>\n      <th>6</th>\n      <td>2023-11-29T01:18:29.000</td>\n      <td>Noise - Commercial</td>\n      <td>Loud Music/Party</td>\n      <td>10002.0</td>\n      <td>40.712416</td>\n      <td>-73.994366</td>\n    </tr>\n    <tr>\n      <th>7</th>\n      <td>2023-11-29T01:17:13.000</td>\n      <td>Noise - Helicopter</td>\n      <td>News Gathering</td>\n      <td>10025.0</td>\n      <td>40.798139</td>\n      <td>-73.968245</td>\n    </tr>\n    <tr>\n      <th>8</th>\n      <td>2023-11-29T01:16:49.000</td>\n      <td>Noise - Helicopter</td>\n      <td>Other</td>\n      <td>11231.0</td>\n      <td>40.680371</td>\n      <td>-73.990676</td>\n    </tr>\n    <tr>\n      <th>9</th>\n      <td>2023-11-29T01:16:13.000</td>\n      <td>Noise - Commercial</td>\n      <td>Loud Music/Party</td>\n      <td>11216.0</td>\n      <td>40.686815</td>\n      <td>-73.954611</td>\n    </tr>\n  </tbody>\n</table>\n</div>"
     },
     "execution_count": 15,
     "metadata": {},
     "output_type": "execute_result"
    }
   ],
   "source": [
    "geodf_311_data.head()"
   ]
  },
  {
   "cell_type": "code",
   "execution_count": 16,
   "id": "e6006cd2-3a00-4660-8d2a-a660b9bfd91e",
   "metadata": {},
   "outputs": [
    {
     "name": "stdout",
     "output_type": "stream",
     "text": [
      "<class 'pandas.core.frame.DataFrame'>\n",
      "RangeIndex: 683788 entries, 0 to 683787\n",
      "Data columns (total 4 columns):\n",
      " #   Column     Non-Null Count   Dtype  \n",
      "---  ------     --------------   -----  \n",
      " 0   tree_id    683788 non-null  int64  \n",
      " 1   zipcode    683788 non-null  int64  \n",
      " 2   latitude   683788 non-null  float64\n",
      " 3   longitude  683788 non-null  float64\n",
      "dtypes: float64(2), int64(2)\n",
      "memory usage: 20.9 MB\n"
     ]
    }
   ],
   "source": [
    "geodf_tree_data.info()"
   ]
  },
  {
   "cell_type": "code",
   "execution_count": 17,
   "id": "07f880ef-c5fc-4159-8174-21ccd44f492d",
   "metadata": {},
   "outputs": [
    {
     "data": {
      "text/plain": "   tree_id  zipcode   latitude  longitude\n0   180683    11375  40.723092 -73.844215\n1   200540    11357  40.794111 -73.818679\n2   204026    11211  40.717581 -73.936608\n3   204337    11211  40.713537 -73.934456\n4   189565    11215  40.666778 -73.975979",
      "text/html": "<div>\n<style scoped>\n    .dataframe tbody tr th:only-of-type {\n        vertical-align: middle;\n    }\n\n    .dataframe tbody tr th {\n        vertical-align: top;\n    }\n\n    .dataframe thead th {\n        text-align: right;\n    }\n</style>\n<table border=\"1\" class=\"dataframe\">\n  <thead>\n    <tr style=\"text-align: right;\">\n      <th></th>\n      <th>tree_id</th>\n      <th>zipcode</th>\n      <th>latitude</th>\n      <th>longitude</th>\n    </tr>\n  </thead>\n  <tbody>\n    <tr>\n      <th>0</th>\n      <td>180683</td>\n      <td>11375</td>\n      <td>40.723092</td>\n      <td>-73.844215</td>\n    </tr>\n    <tr>\n      <th>1</th>\n      <td>200540</td>\n      <td>11357</td>\n      <td>40.794111</td>\n      <td>-73.818679</td>\n    </tr>\n    <tr>\n      <th>2</th>\n      <td>204026</td>\n      <td>11211</td>\n      <td>40.717581</td>\n      <td>-73.936608</td>\n    </tr>\n    <tr>\n      <th>3</th>\n      <td>204337</td>\n      <td>11211</td>\n      <td>40.713537</td>\n      <td>-73.934456</td>\n    </tr>\n    <tr>\n      <th>4</th>\n      <td>189565</td>\n      <td>11215</td>\n      <td>40.666778</td>\n      <td>-73.975979</td>\n    </tr>\n  </tbody>\n</table>\n</div>"
     },
     "execution_count": 17,
     "metadata": {},
     "output_type": "execute_result"
    }
   ],
   "source": [
    "geodf_tree_data.head()"
   ]
  },
  {
   "cell_type": "code",
   "execution_count": 18,
   "id": "59724f74-5f1e-435c-b843-f381a875dd4a",
   "metadata": {},
   "outputs": [
    {
     "name": "stdout",
     "output_type": "stream",
     "text": [
      "<class 'pandas.core.frame.DataFrame'>\n",
      "Int64Index: 145 entries, 4 to 6721\n",
      "Columns: 110 entries, RegionName to 2023-09-30\n",
      "dtypes: float64(105), int64(1), object(4)\n",
      "memory usage: 125.7+ KB\n"
     ]
    }
   ],
   "source": [
    "df_zillow_data.info()"
   ]
  },
  {
   "cell_type": "code",
   "execution_count": 19,
   "id": "e29ae5d9-9768-4590-a2f2-dd63b07dd712",
   "metadata": {},
   "outputs": [
    {
     "data": {
      "text/plain": "    RegionName State      City                                  Metro  \\\n4        11385    NY  New York  New York-Newark-Jersey City, NY-NJ-PA   \n6        11208    NY  New York  New York-Newark-Jersey City, NY-NJ-PA   \n12       11236    NY  New York  New York-Newark-Jersey City, NY-NJ-PA   \n13       10467    NY  New York  New York-Newark-Jersey City, NY-NJ-PA   \n14       11373    NY  New York  New York-Newark-Jersey City, NY-NJ-PA   \n\n       CountyName  2015-01-31   2015-02-28  2015-03-31   2015-04-30  \\\n4   Queens County         NaN  2087.527084         NaN  2149.924252   \n6    Kings County         NaN          NaN         NaN          NaN   \n12   Kings County         NaN          NaN         NaN          NaN   \n13   Bronx County         NaN          NaN         NaN          NaN   \n14  Queens County         NaN          NaN         NaN          NaN   \n\n     2015-05-31  ...   2022-12-31   2023-01-31   2023-02-28   2023-03-31  \\\n4   2166.263698  ...  2935.808220  2895.699421  2873.209025  2881.906361   \n6           NaN  ...  2508.670432  2588.030194  2613.790654  2585.561351   \n12          NaN  ...          NaN          NaN          NaN          NaN   \n13          NaN  ...  2145.642295  2155.617718  2172.346611  2160.962748   \n14          NaN  ...  2199.459063  2255.604528  2262.101623  2271.514956   \n\n     2023-04-30   2023-05-31   2023-06-30   2023-07-31   2023-08-31  \\\n4   2913.546218  2963.964134  3005.735342  3034.413822  3064.476503   \n6   2633.200754  2672.038493  2806.918757  2765.224364  2737.547470   \n12          NaN          NaN          NaN          NaN  2285.460026   \n13  2110.533203  2180.323655  2276.372290  2334.204728  2353.686402   \n14  2250.182334  2231.959479  2257.413993  2247.592851  2302.557354   \n\n     2023-09-30  \n4   3079.585783  \n6   2728.733333  \n12  2362.500000  \n13  2423.888889  \n14  2292.994444  \n\n[5 rows x 110 columns]",
      "text/html": "<div>\n<style scoped>\n    .dataframe tbody tr th:only-of-type {\n        vertical-align: middle;\n    }\n\n    .dataframe tbody tr th {\n        vertical-align: top;\n    }\n\n    .dataframe thead th {\n        text-align: right;\n    }\n</style>\n<table border=\"1\" class=\"dataframe\">\n  <thead>\n    <tr style=\"text-align: right;\">\n      <th></th>\n      <th>RegionName</th>\n      <th>State</th>\n      <th>City</th>\n      <th>Metro</th>\n      <th>CountyName</th>\n      <th>2015-01-31</th>\n      <th>2015-02-28</th>\n      <th>2015-03-31</th>\n      <th>2015-04-30</th>\n      <th>2015-05-31</th>\n      <th>...</th>\n      <th>2022-12-31</th>\n      <th>2023-01-31</th>\n      <th>2023-02-28</th>\n      <th>2023-03-31</th>\n      <th>2023-04-30</th>\n      <th>2023-05-31</th>\n      <th>2023-06-30</th>\n      <th>2023-07-31</th>\n      <th>2023-08-31</th>\n      <th>2023-09-30</th>\n    </tr>\n  </thead>\n  <tbody>\n    <tr>\n      <th>4</th>\n      <td>11385</td>\n      <td>NY</td>\n      <td>New York</td>\n      <td>New York-Newark-Jersey City, NY-NJ-PA</td>\n      <td>Queens County</td>\n      <td>NaN</td>\n      <td>2087.527084</td>\n      <td>NaN</td>\n      <td>2149.924252</td>\n      <td>2166.263698</td>\n      <td>...</td>\n      <td>2935.808220</td>\n      <td>2895.699421</td>\n      <td>2873.209025</td>\n      <td>2881.906361</td>\n      <td>2913.546218</td>\n      <td>2963.964134</td>\n      <td>3005.735342</td>\n      <td>3034.413822</td>\n      <td>3064.476503</td>\n      <td>3079.585783</td>\n    </tr>\n    <tr>\n      <th>6</th>\n      <td>11208</td>\n      <td>NY</td>\n      <td>New York</td>\n      <td>New York-Newark-Jersey City, NY-NJ-PA</td>\n      <td>Kings County</td>\n      <td>NaN</td>\n      <td>NaN</td>\n      <td>NaN</td>\n      <td>NaN</td>\n      <td>NaN</td>\n      <td>...</td>\n      <td>2508.670432</td>\n      <td>2588.030194</td>\n      <td>2613.790654</td>\n      <td>2585.561351</td>\n      <td>2633.200754</td>\n      <td>2672.038493</td>\n      <td>2806.918757</td>\n      <td>2765.224364</td>\n      <td>2737.547470</td>\n      <td>2728.733333</td>\n    </tr>\n    <tr>\n      <th>12</th>\n      <td>11236</td>\n      <td>NY</td>\n      <td>New York</td>\n      <td>New York-Newark-Jersey City, NY-NJ-PA</td>\n      <td>Kings County</td>\n      <td>NaN</td>\n      <td>NaN</td>\n      <td>NaN</td>\n      <td>NaN</td>\n      <td>NaN</td>\n      <td>...</td>\n      <td>NaN</td>\n      <td>NaN</td>\n      <td>NaN</td>\n      <td>NaN</td>\n      <td>NaN</td>\n      <td>NaN</td>\n      <td>NaN</td>\n      <td>NaN</td>\n      <td>2285.460026</td>\n      <td>2362.500000</td>\n    </tr>\n    <tr>\n      <th>13</th>\n      <td>10467</td>\n      <td>NY</td>\n      <td>New York</td>\n      <td>New York-Newark-Jersey City, NY-NJ-PA</td>\n      <td>Bronx County</td>\n      <td>NaN</td>\n      <td>NaN</td>\n      <td>NaN</td>\n      <td>NaN</td>\n      <td>NaN</td>\n      <td>...</td>\n      <td>2145.642295</td>\n      <td>2155.617718</td>\n      <td>2172.346611</td>\n      <td>2160.962748</td>\n      <td>2110.533203</td>\n      <td>2180.323655</td>\n      <td>2276.372290</td>\n      <td>2334.204728</td>\n      <td>2353.686402</td>\n      <td>2423.888889</td>\n    </tr>\n    <tr>\n      <th>14</th>\n      <td>11373</td>\n      <td>NY</td>\n      <td>New York</td>\n      <td>New York-Newark-Jersey City, NY-NJ-PA</td>\n      <td>Queens County</td>\n      <td>NaN</td>\n      <td>NaN</td>\n      <td>NaN</td>\n      <td>NaN</td>\n      <td>NaN</td>\n      <td>...</td>\n      <td>2199.459063</td>\n      <td>2255.604528</td>\n      <td>2262.101623</td>\n      <td>2271.514956</td>\n      <td>2250.182334</td>\n      <td>2231.959479</td>\n      <td>2257.413993</td>\n      <td>2247.592851</td>\n      <td>2302.557354</td>\n      <td>2292.994444</td>\n    </tr>\n  </tbody>\n</table>\n<p>5 rows × 110 columns</p>\n</div>"
     },
     "execution_count": 19,
     "metadata": {},
     "output_type": "execute_result"
    }
   ],
   "source": [
    "df_zillow_data.head()"
   ]
  },
  {
   "cell_type": "markdown",
   "id": "e685942c-26dc-40db-84c2-a71aa3340806",
   "metadata": {},
   "source": [
    "## Part 2: Storing Data"
   ]
  },
  {
   "cell_type": "code",
   "execution_count": null,
   "metadata": {},
   "outputs": [],
   "source": [
    "!createdb YOUR_DATABASE_NAME"
   ]
  },
  {
   "cell_type": "code",
   "execution_count": null,
   "metadata": {},
   "outputs": [],
   "source": [
    "!psql --dbname YOUR_DATABASE_NAME -c 'CREATE EXTENSION postgis;'"
   ]
  },
  {
   "cell_type": "code",
   "execution_count": null,
   "id": "f349fbdd-67d0-40a4-97a0-d9b8c8ec8013",
   "metadata": {},
   "outputs": [],
   "source": [
    "def setup_new_postgis_database(username, db_name):\n",
    "    raise NotImplementedError()"
   ]
  },
  {
   "cell_type": "code",
   "execution_count": null,
   "id": "590ed80d-7b60-484f-a123-23b673b0f440",
   "metadata": {},
   "outputs": [],
   "source": [
    "setup_new_postgis_database(DB_USER, DB_NAME)"
   ]
  },
  {
   "cell_type": "markdown",
   "id": "527a251c-f337-4b24-bb41-96ee4621a9bd",
   "metadata": {},
   "source": [
    "### Creating Tables\n",
    "\n",
    "\n",
    "These are just a couple of options to creating your tables; you can use one or the other, a different method, or a combination."
   ]
  },
  {
   "cell_type": "markdown",
   "id": "2ac07405-dc2b-47af-9dad-6a9b94d2b34c",
   "metadata": {},
   "source": [
    "#### Option 1: SQL"
   ]
  },
  {
   "cell_type": "code",
   "execution_count": null,
   "id": "490d0cc6-74b3-4d35-a454-57f647c9f8e3",
   "metadata": {},
   "outputs": [],
   "source": [
    "# if using SQL (as opposed to SQLAlchemy), define the SQL statements to create your 4 tables\n",
    "ZIPCODE_SCHEMA = \"\"\"\n",
    "CREATE TABLE zipcodes (\n",
    "    id SERIAL PRIMARY KEY,\n",
    "    zipcode VARCHAR(10),\n",
    "    geometry GEOMETRY(POLYGON, 4326)\n",
    ");\n",
    "\"\"\"\n",
    "\n",
    "NYC_311_SCHEMA = \"\"\"\n",
    "CREATE TABLE complaints (\n",
    "    id SERIAL PRIMARY KEY,\n",
    "    complaint_type VARCHAR(255),\n",
    "    geometry GEOMETRY(POINT, 4326)\n",
    ");\n",
    "\"\"\"\n",
    "\n",
    "NYC_TREE_SCHEMA = \"\"\"\n",
    "CREATE TABLE trees (\n",
    "    id SERIAL PRIMARY KEY,\n",
    "    tree_id INTEGER,\n",
    "    geometry GEOMETRY(POINT, 4326)\n",
    ");\n",
    "\"\"\"\n",
    "\n",
    "ZILLOW_SCHEMA = \"\"\"\n",
    "CREATE TABLE rents (\n",
    "    id SERIAL PRIMARY KEY,\n",
    "    zipcode VARCHAR(10),\n",
    "    month DATE,\n",
    "    rent_avg NUMERIC\n",
    ");\n",
    "\"\"\""
   ]
  },
  {
   "cell_type": "code",
   "execution_count": null,
   "id": "f36d86f6-ff6e-4bb8-8fa2-df0d4282e959",
   "metadata": {},
   "outputs": [],
   "source": [
    "# create that required schema.sql file\n",
    "with open(DB_SCHEMA_FILE, \"w\") as f:\n",
    "    f.write(ZIPCODE_SCHEMA)\n",
    "    f.write(NYC_311_SCHEMA)\n",
    "    f.write(NYC_TREE_SCHEMA)\n",
    "    f.write(ZILLOW_SCHEMA)"
   ]
  },
  {
   "cell_type": "code",
   "execution_count": null,
   "id": "48eacd37-4fd7-4768-b689-88b07d5c234e",
   "metadata": {},
   "outputs": [],
   "source": [
    "# If using SQL (as opposed to SQLAlchemy), execute the schema files to create tables\n",
    "with engine.connect() as connection:\n",
    "    with connection.begin():\n",
    "        connection.execute(ZIPCODE_SCHEMA)\n",
    "        connection.execute(NYC_311_SCHEMA)\n",
    "        connection.execute(NYC_TREE_SCHEMA)\n",
    "        connection.execute(ZILLOW_SCHEMA)\n",
    "    #pass"
   ]
  },
  {
   "cell_type": "markdown",
   "id": "232a2d89-b276-4d44-a0ef-3631eb686e84",
   "metadata": {},
   "source": [
    "#### Option 2: SQLAlchemy"
   ]
  },
  {
   "cell_type": "code",
   "execution_count": null,
   "id": "d41c42e1-4ad4-4c43-a2ba-1dbcac1de557",
   "metadata": {},
   "outputs": [],
   "source": [
    "Base = declarative_base()\n",
    "\n",
    "class Tree(Base):\n",
    "    __tablename__ = \"trees\"\n",
    "\n",
    "    ...\n"
   ]
  },
  {
   "cell_type": "code",
   "execution_count": null,
   "id": "5b3a9c3d-e6d6-4e01-8247-e9d465381ce6",
   "metadata": {},
   "outputs": [],
   "source": [
    "Base.metadata.create_all(engine)"
   ]
  },
  {
   "cell_type": "markdown",
   "id": "2e88a50c-9528-4a5c-9a52-b96781ee8985",
   "metadata": {},
   "source": [
    "### Add Data to Database\n",
    "\n",
    "These are just a couple of options to write data to your tables; you can use one or the other, a different method, or a combination."
   ]
  },
  {
   "cell_type": "markdown",
   "id": "0c66af67-afb8-4f0d-bb57-552972f8e4b8",
   "metadata": {},
   "source": [
    "#### Option 1: SQL"
   ]
  },
  {
   "cell_type": "code",
   "execution_count": null,
   "id": "69e37800-cd95-44b5-9c21-eb7ac2b2e4ec",
   "metadata": {},
   "outputs": [],
   "source": [
    "def write_dataframes_to_table(tablename_to_dataframe):\n",
    "    # write INSERT statements or use pandas/geopandas to write SQL\n",
    "    for table, df in tablename_to_dataframe.items():\n",
    "        df.to_sql(table, engine, index=False, if_exists='replace', dtype={'geometry': gdb.Geometry('POINT', srid=4326)})\n",
    "    raise NotImplemented()"
   ]
  },
  {
   "cell_type": "code",
   "execution_count": null,
   "id": "d1f042f5-8270-477d-929a-872f7d9a0bc8",
   "metadata": {},
   "outputs": [],
   "source": [
    "tablename_to_dataframe = {\n",
    "    \"zipcodes\": geodf_zipcode_data,\n",
    "    \"complaints\": geodf_311_data,\n",
    "    \"trees\": geodf_tree_data,\n",
    "    \"rents\": df_zillow_data,\n",
    "}"
   ]
  },
  {
   "cell_type": "code",
   "execution_count": null,
   "id": "9d052c50-1e43-4356-bcac-4f5abc7e714b",
   "metadata": {},
   "outputs": [],
   "source": [
    "write_dataframes_to_table(tablename_to_dataframe)"
   ]
  },
  {
   "cell_type": "code",
   "execution_count": null,
   "metadata": {},
   "outputs": [],
   "source": [
    "# Create indices on geometry columns\n",
    "with engine.connect() as connection:\n",
    "    connection.execute(\"CREATE INDEX idx_zipcodes_geom ON zipcodes USING GIST(geometry);\")\n",
    "    connection.execute(\"CREATE INDEX idx_complaints_geom ON complaints USING GIST(geometry);\")\n",
    "    connection.execute(\"CREATE INDEX idx_trees_geom ON trees USING GIST(geometry);\")\n",
    "    connection.execute(\"CREATE INDEX idx_rents_geom ON rents USING GIST(geometry);\")"
   ]
  },
  {
   "cell_type": "markdown",
   "id": "e4708cb4-d034-43b6-955b-a21d0eab74d4",
   "metadata": {},
   "source": [
    "#### Option 2: SQLAlchemy"
   ]
  },
  {
   "cell_type": "code",
   "execution_count": null,
   "id": "210ddbad-3b11-47a2-9245-935f482fa7ea",
   "metadata": {},
   "outputs": [],
   "source": [
    "Session = db.orm.sessionmaker(bind=engine)\n",
    "session = Session()"
   ]
  },
  {
   "cell_type": "code",
   "execution_count": null,
   "id": "3f2b21c6-59d9-4bae-8c33-ab4b49ff2b3a",
   "metadata": {},
   "outputs": [],
   "source": [
    "for row in geodf_tree_data.iterrows():\n",
    "    tree = Tree(...)\n",
    "    session.add(tree)"
   ]
  },
  {
   "cell_type": "code",
   "execution_count": null,
   "id": "83e4bfb9-4fbc-45fe-8a98-a760a22234f8",
   "metadata": {},
   "outputs": [],
   "source": [
    "session.commit()"
   ]
  },
  {
   "cell_type": "markdown",
   "id": "eb63b553-0c64-4da8-9fc7-41555d89d853",
   "metadata": {},
   "source": [
    "## Part 3: Understanding the Data"
   ]
  },
  {
   "cell_type": "markdown",
   "id": "7ac7e12b-e251-4f08-8dc5-601db30c2089",
   "metadata": {},
   "source": [
    "### Query 1"
   ]
  },
  {
   "cell_type": "code",
   "execution_count": null,
   "id": "d6ce8548-4aba-4bf9-992c-dedd0f249db4",
   "metadata": {},
   "outputs": [],
   "source": [
    "# Helper function to write the queries to file\n",
    "def write_query_to_file(query, outfile):\n",
    "    with open(outfile, \"w\") as f:\n",
    "        f.write(query)"
   ]
  },
  {
   "cell_type": "code",
   "execution_count": null,
   "id": "6605e6f3-ec42-4a8b-833c-5138c14b678b",
   "metadata": {},
   "outputs": [],
   "source": [
    "QUERY_1_FILENAME = QUERY_DIR / \"FILL_ME_IN\"\n",
    "\n",
    "QUERY_1 = \"\"\"\n",
    "SELECT zipcode, COUNT(*) as num_complaints\n",
    "FROM complaints\n",
    "WHERE date BETWEEN '2022-10-01' AND '2023-09-30'\n",
    "GROUP BY zipcode\n",
    "ORDER BY num_complaints DESC;\n",
    "\"\"\"\n",
    "\n",
    "QUERY_1_FILENAME = QUERY_DIR / \"top_10_zipcodes_by_complaints.sql\""
   ]
  },
  {
   "cell_type": "code",
   "execution_count": null,
   "id": "ce044adf-ecdf-4237-9b20-b7cdaaab0c6c",
   "metadata": {},
   "outputs": [],
   "source": [
    "with engine.connect() as conn:\n",
    "    result = conn.execute(db.text(QUERY_1))\n",
    "    for row in result:\n",
    "        print(row)"
   ]
  },
  {
   "cell_type": "code",
   "execution_count": null,
   "id": "4b7b2c3d-8961-4c7e-8eb1-fc973d0ab9c1",
   "metadata": {},
   "outputs": [],
   "source": [
    "write_query_to_file(QUERY_1, QUERY_1_FILENAME)"
   ]
  },
  {
   "cell_type": "code",
   "execution_count": null,
   "metadata": {},
   "outputs": [],
   "source": [
    "QUERY_2 = \"\"\"\n",
    "SELECT zipcode, COUNT(*) as num_trees\n",
    "FROM trees\n",
    "GROUP BY zipcode\n",
    "ORDER BY num_trees DESC\n",
    "LIMIT 10;\n",
    "\"\"\"\n",
    "\n",
    "QUERY_2_FILENAME = QUERY_DIR / \"top_10_zipcodes_by_trees.sql\""
   ]
  },
  {
   "cell_type": "code",
   "execution_count": null,
   "metadata": {},
   "outputs": [],
   "source": [
    "with engine.connect() as conn:\n",
    "    result = conn.execute(db.text(QUERY_2))\n",
    "    for row in result:\n",
    "        print(row)\n",
    "write_query_to_file(QUERY_2, QUERY_2_FILENAME)"
   ]
  },
  {
   "cell_type": "code",
   "execution_count": null,
   "metadata": {},
   "outputs": [],
   "source": [
    "QUERY_3 = \"\"\"\n",
    "SELECT t.zipcode, AVG(r.average_rent) as avg_rent\n",
    "FROM trees t\n",
    "JOIN rents r ON t.zipcode = r.zipcode AND r.month = '2023-08-01'\n",
    "GROUP BY t.zipcode\n",
    "ORDER BY COUNT(*) DESC\n",
    "LIMIT 10;\n",
    "\"\"\"\n",
    "\n",
    "QUERY_3_FILENAME = QUERY_DIR / \"avg_rent_in_top_10_zipcodes_with_trees.sql\""
   ]
  },
  {
   "cell_type": "code",
   "execution_count": null,
   "metadata": {},
   "outputs": [],
   "source": [
    "with engine.connect() as conn:\n",
    "    result = conn.execute(db.text(QUERY_3))\n",
    "    for row in result:\n",
    "        print(row)\n",
    "write_query_to_file(QUERY_3, QUERY_3_FILENAME)"
   ]
  },
  {
   "cell_type": "code",
   "execution_count": null,
   "metadata": {},
   "outputs": [],
   "source": [
    "QUERY_4 = \"\"\"\n",
    "WITH rents_tree_complaints AS (\n",
    "    SELECT t.zipcode, AVG(r.average_rent) as avg_rent, COUNT(*) as num_trees, COUNT(c.*) as num_complaints\n",
    "    FROM trees t\n",
    "    JOIN rents r ON t.zipcode = r.zipcode AND r.month = '2023-01-01'\n",
    "    LEFT JOIN complaints c ON t.zipcode = c.zipcode AND c.date BETWEEN '2023-01-01' AND '2023-01-31'\n",
    "    GROUP BY t.zipcode\n",
    ")\n",
    "SELECT *\n",
    "FROM (\n",
    "    SELECT *, ROW_NUMBER() OVER (ORDER BY avg_rent ASC) as row_low\n",
    "    FROM rents_tree_complaints\n",
    "    WHERE avg_rent IS NOT NULL\n",
    ") AS low\n",
    "UNION ALL\n",
    "SELECT *\n",
    "FROM (\n",
    "    SELECT *, ROW_NUMBER() OVER (ORDER BY avg_rent DESC) as row_high\n",
    "    FROM rents_tree_complaints\n",
    "    WHERE avg_rent IS NOT NULL\n",
    ") AS high\n",
    "WHERE row_low <= 5 OR row_high <= 5\n",
    "ORDER BY avg_rent DESC, num_trees DESC, num_complaints DESC;\n",
    "\"\"\"\n",
    "\n",
    "QUERY_4_FILENAME = QUERY_DIR / \"rent_tree_complaint_correlation.sql\""
   ]
  },
  {
   "cell_type": "code",
   "execution_count": null,
   "metadata": {},
   "outputs": [],
   "source": [
    "with engine.connect() as conn:\n",
    "    result = conn.execute(db.text(QUERY_4))\n",
    "    for row in result:\n",
    "        print(row)\n",
    "write_query_to_file(QUERY_4, QUERY_4_FILENAME)"
   ]
  },
  {
   "cell_type": "code",
   "execution_count": null,
   "metadata": {},
   "outputs": [],
   "source": [
    "QUERY_5 = \"\"\"\n",
    "SELECT z.zipcode, COUNT(*) as num_trees\n",
    "FROM trees t\n",
    "JOIN zipcodes z ON ST_Within(t.geometry, z.geometry)\n",
    "GROUP BY z.zipcode\n",
    "ORDER BY num_trees DESC\n",
    "LIMIT 10;\n",
    "\"\"\"\n",
    "\n",
    "QUERY_5_FILENAME = QUERY_DIR / \"top_10_zipcodes_by_trees_v2.sql\""
   ]
  },
  {
   "cell_type": "code",
   "execution_count": null,
   "metadata": {},
   "outputs": [],
   "source": [
    "with engine.connect() as conn:\n",
    "    result = conn.execute(db.text(QUERY_5))\n",
    "    for row in result:\n",
    "        print(row)\n",
    "write_query_to_file(QUERY_5, QUERY_5_FILENAME)"
   ]
  },
  {
   "cell_type": "code",
   "execution_count": null,
   "metadata": {},
   "outputs": [],
   "source": [
    "QUERY_6 = \"\"\"\n",
    "SELECT id, tree_species, health, status, ST_AsText(geometry) as coordinate_location\n",
    "FROM trees\n",
    "WHERE ST_DistanceSphere(ST_MakePoint(-73.96253174434912, 40.80737875669467), geometry) <= 804.672;  -- 0.5 mile in meters\n",
    "\"\"\"\n",
    "\n",
    "QUERY_6_FILENAME = QUERY_DIR / \"trees_within_half_mile_radius.sql\""
   ]
  },
  {
   "cell_type": "code",
   "execution_count": null,
   "metadata": {},
   "outputs": [],
   "source": [
    "with engine.connect() as conn:\n",
    "    result = conn.execute(db.text(QUERY_6))\n",
    "    for row in result:\n",
    "        print(row)\n",
    "write_query_to_file(QUERY_6, QUERY_6_FILENAME)"
   ]
  },
  {
   "cell_type": "markdown",
   "id": "75223ce5-6ab5-4613-b6af-fa8e33bcc7d5",
   "metadata": {},
   "source": [
    "## Part 4: Visualizing the Data"
   ]
  },
  {
   "cell_type": "markdown",
   "id": "b21fcfed-ddbb-4908-a60e-ed7cbc6d5b00",
   "metadata": {},
   "source": [
    "### Visualization 1"
   ]
  },
  {
   "cell_type": "code",
   "execution_count": null,
   "id": "6f0e2cde-e43b-407b-ab93-ff85a2dba469",
   "metadata": {},
   "outputs": [],
   "source": [
    "# use a more descriptive name for your function\n",
    "def plot_visual_1(dataframe):\n",
    "    figure, axes = plt.subplots(figsize=(20, 10))\n",
    "    \n",
    "    values = \"...\"  # use the dataframe to pull out values needed to plot\n",
    "    \n",
    "    # you may want to use matplotlib to plot your visualizations;\n",
    "    # there are also many other plot types (other \n",
    "    # than axes.plot) you can use\n",
    "    axes.plot(values, \"...\")\n",
    "    # there are other methods to use to label your axes, to style \n",
    "    # and set up axes labels, etc\n",
    "    axes.set_title(\"Some Descriptive Title\")\n",
    "    \n",
    "    plt.show()"
   ]
  },
  {
   "cell_type": "code",
   "execution_count": null,
   "id": "ed80755f-d1e1-4e53-8ef8-f5295c59a3fe",
   "metadata": {},
   "outputs": [],
   "source": [
    "def get_data_for_visual_1():\n",
    "    # Query your database for the data needed.\n",
    "    # You can put the data queried into a pandas/geopandas dataframe, if you wish\n",
    "    raise NotImplementedError()"
   ]
  },
  {
   "cell_type": "code",
   "execution_count": null,
   "id": "f6a2632a-b516-4a6e-8b67-97116ab6fce4",
   "metadata": {},
   "outputs": [],
   "source": [
    "some_dataframe = get_data_for_visual_1()\n",
    "plot_visual_1(some_dataframe)"
   ]
  }
 ],
 "metadata": {
  "kernelspec": {
   "display_name": "Python 3 (ipykernel)",
   "language": "python",
   "name": "python3"
  },
  "language_info": {
   "codemirror_mode": {
    "name": "ipython",
    "version": 3
   },
   "file_extension": ".py",
   "mimetype": "text/x-python",
   "name": "python",
   "nbconvert_exporter": "python",
   "pygments_lexer": "ipython3",
   "version": "3.10.1"
  }
 },
 "nbformat": 4,
 "nbformat_minor": 5
}